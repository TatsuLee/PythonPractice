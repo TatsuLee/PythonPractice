{
 "cells": [
  {
   "cell_type": "code",
   "execution_count": 15,
   "metadata": {
    "collapsed": false
   },
   "outputs": [
    {
     "name": "stdout",
     "output_type": "stream",
     "text": [
      "/home/darren/github/pythonPractice/leet/l15.py\n",
      "/home/darren/github/pythonPractice/leet/l26.py\n",
      "/home/darren/github/pythonPractice/leet/l43.py\n",
      "/home/darren/github/pythonPractice/leet/l8.py\n",
      "/home/darren/github/pythonPractice/leet/l3.py\n",
      "/home/darren/github/pythonPractice/leet/l24.py\n",
      "/home/darren/github/pythonPractice/leet/l17.py\n",
      "/home/darren/github/pythonPractice/leet/l7.py\n",
      "/home/darren/github/pythonPractice/leet/l27.py\n",
      "/home/darren/github/pythonPractice/leet/l22.py\n",
      "/home/darren/github/pythonPractice/leet/l14.py\n",
      "/home/darren/github/pythonPractice/leet/l46.py\n",
      "/home/darren/github/pythonPractice/leet/l39.py\n",
      "/home/darren/github/pythonPractice/leet/l69.py\n",
      "/home/darren/github/pythonPractice/leet/l16.py\n",
      "/home/darren/github/pythonPractice/leet/l231.py\n",
      "/home/darren/github/pythonPractice/leet/l34.py\n",
      "/home/darren/github/pythonPractice/leet/l234.py\n",
      "/home/darren/github/pythonPractice/leet/l10.py\n",
      "/home/darren/github/pythonPractice/leet/l169.py\n",
      "/home/darren/github/pythonPractice/leet/l223.py\n",
      "/home/darren/github/pythonPractice/leet/l263.py\n",
      "/home/darren/github/pythonPractice/leet/l20.py\n",
      "/home/darren/github/pythonPractice/leet/l21.py\n",
      "/home/darren/github/pythonPractice/leet/l36.py\n",
      "/home/darren/github/pythonPractice/leet/l268.py\n",
      "/home/darren/github/pythonPractice/leet/l28.py\n",
      "/home/darren/github/pythonPractice/leet/l60.py\n",
      "/home/darren/github/pythonPractice/leet/l4.py\n",
      "/home/darren/github/pythonPractice/leet/l9.py\n",
      "/home/darren/github/pythonPractice/leet/l35.py\n",
      "/home/darren/github/pythonPractice/leet/l31.py\n",
      "/home/darren/github/pythonPractice/leet/l66.py\n",
      "/home/darren/github/pythonPractice/leet/l168.py\n",
      "/home/darren/github/pythonPractice/leet/l2.py\n",
      "/home/darren/github/pythonPractice/leet/l264.py\n",
      "/home/darren/github/pythonPractice/leet/l258.py\n",
      "/home/darren/github/pythonPractice/leet/l1.py\n",
      "/home/darren/github/pythonPractice/leet/l204.py\n",
      "/home/darren/github/pythonPractice/leet/l18.py\n",
      "/home/darren/github/pythonPractice/leet/l13.py\n",
      "/home/darren/github/pythonPractice/leet/l5.py\n",
      "/home/darren/github/pythonPractice/leet/l12.py\n",
      "/home/darren/github/pythonPractice/leet/l19.py\n",
      "/home/darren/github/pythonPractice/leet/l11.py\n",
      "/home/darren/github/pythonPractice/leet/l67.py\n",
      "/home/darren/github/pythonPractice/leet/l202.py\n",
      "/home/darren/github/pythonPractice/leet/l172.py\n",
      "/home/darren/github/pythonPractice/leet/l29.py\n",
      "/home/darren/github/pythonPractice/leet/l166.py\n",
      "/home/darren/github/pythonPractice/leet/l50.py\n",
      "/home/darren/github/pythonPractice/leet/l6.py\n",
      "/home/darren/github/pythonPractice/leet/l47.py\n",
      "/home/darren/github/pythonPractice/leet/l206.py\n"
     ]
    }
   ],
   "source": [
    "# defines a generator for matching file patterns\n",
    "import os\n",
    "import re \n",
    "def gen_find(filepat,top):\n",
    "    repat = re.compile(filepat)\n",
    "    for path, dirlist, filelist in os.walk(top):\n",
    "        for line in filelist:\n",
    "            if repat.search(line):\n",
    "                yield os.path.join(path,line) \n",
    "# try to find all leet python files\n",
    "pyfiles = gen_find(r\"^l\\d*\\.py$\",\"/home/darren/github/pythonPractice\")\n",
    "for name in pyfiles:\n",
    "    print name "
   ]
  },
  {
   "cell_type": "code",
   "execution_count": 26,
   "metadata": {
    "collapsed": false
   },
   "outputs": [
    {
     "data": {
      "text/plain": [
       "((1, 14), (-1, -1), (1, 14))"
      ]
     },
     "execution_count": 26,
     "metadata": {},
     "output_type": "execute_result"
    }
   ],
   "source": [
    "# some useful regex\n",
    "repat = r'(<)?(\\w+@\\w+(?:\\.\\w+)+)(?(1)>)'  # poor email pattern \n",
    "a = re.search(repat, '<name@host.com')\n",
    "a.regs"
   ]
  },
  {
   "cell_type": "code",
   "execution_count": null,
   "metadata": {
    "collapsed": true
   },
   "outputs": [],
   "source": []
  },
  {
   "cell_type": "code",
   "execution_count": null,
   "metadata": {
    "collapsed": true
   },
   "outputs": [],
   "source": []
  },
  {
   "cell_type": "code",
   "execution_count": null,
   "metadata": {
    "collapsed": true
   },
   "outputs": [],
   "source": []
  },
  {
   "cell_type": "code",
   "execution_count": null,
   "metadata": {
    "collapsed": true
   },
   "outputs": [],
   "source": []
  },
  {
   "cell_type": "code",
   "execution_count": null,
   "metadata": {
    "collapsed": true
   },
   "outputs": [],
   "source": []
  },
  {
   "cell_type": "code",
   "execution_count": null,
   "metadata": {
    "collapsed": true
   },
   "outputs": [],
   "source": []
  },
  {
   "cell_type": "code",
   "execution_count": null,
   "metadata": {
    "collapsed": true
   },
   "outputs": [],
   "source": []
  },
  {
   "cell_type": "code",
   "execution_count": null,
   "metadata": {
    "collapsed": true
   },
   "outputs": [],
   "source": []
  },
  {
   "cell_type": "code",
   "execution_count": null,
   "metadata": {
    "collapsed": true
   },
   "outputs": [],
   "source": []
  },
  {
   "cell_type": "code",
   "execution_count": null,
   "metadata": {
    "collapsed": true
   },
   "outputs": [],
   "source": []
  },
  {
   "cell_type": "code",
   "execution_count": null,
   "metadata": {
    "collapsed": true
   },
   "outputs": [],
   "source": []
  },
  {
   "cell_type": "code",
   "execution_count": null,
   "metadata": {
    "collapsed": true
   },
   "outputs": [],
   "source": []
  },
  {
   "cell_type": "code",
   "execution_count": null,
   "metadata": {
    "collapsed": true
   },
   "outputs": [],
   "source": []
  },
  {
   "cell_type": "code",
   "execution_count": null,
   "metadata": {
    "collapsed": true
   },
   "outputs": [],
   "source": []
  },
  {
   "cell_type": "code",
   "execution_count": null,
   "metadata": {
    "collapsed": true
   },
   "outputs": [],
   "source": []
  },
  {
   "cell_type": "code",
   "execution_count": null,
   "metadata": {
    "collapsed": true
   },
   "outputs": [],
   "source": []
  },
  {
   "cell_type": "code",
   "execution_count": 9,
   "metadata": {
    "collapsed": false
   },
   "outputs": [
    {
     "ename": "StopIteration",
     "evalue": "",
     "output_type": "error",
     "traceback": [
      "\u001b[0;31m---------------------------------------------------------------------------\u001b[0m",
      "\u001b[0;31mStopIteration\u001b[0m                             Traceback (most recent call last)",
      "\u001b[0;32m<ipython-input-9-32228d328dd7>\u001b[0m in \u001b[0;36m<module>\u001b[0;34m()\u001b[0m\n\u001b[0;32m----> 1\u001b[0;31m \u001b[0mpyfiles\u001b[0m\u001b[0;34m.\u001b[0m\u001b[0mnext\u001b[0m\u001b[0;34m(\u001b[0m\u001b[0;34m)\u001b[0m\u001b[0;34m\u001b[0m\u001b[0m\n\u001b[0m",
      "\u001b[0;31mStopIteration\u001b[0m: "
     ]
    }
   ],
   "source": [
    "pyfiles.next()"
   ]
  },
  {
   "cell_type": "code",
   "execution_count": null,
   "metadata": {
    "collapsed": true
   },
   "outputs": [],
   "source": []
  },
  {
   "cell_type": "code",
   "execution_count": null,
   "metadata": {
    "collapsed": true
   },
   "outputs": [],
   "source": []
  },
  {
   "cell_type": "code",
   "execution_count": null,
   "metadata": {
    "collapsed": true
   },
   "outputs": [],
   "source": []
  },
  {
   "cell_type": "code",
   "execution_count": null,
   "metadata": {
    "collapsed": true
   },
   "outputs": [],
   "source": []
  },
  {
   "cell_type": "code",
   "execution_count": null,
   "metadata": {
    "collapsed": true
   },
   "outputs": [],
   "source": []
  },
  {
   "cell_type": "code",
   "execution_count": null,
   "metadata": {
    "collapsed": true
   },
   "outputs": [],
   "source": []
  },
  {
   "cell_type": "code",
   "execution_count": null,
   "metadata": {
    "collapsed": true
   },
   "outputs": [],
   "source": []
  }
 ],
 "metadata": {
  "kernelspec": {
   "display_name": "Python 2 DM build",
   "language": "python",
   "name": "python2dm"
  },
  "language_info": {
   "codemirror_mode": {
    "name": "ipython",
    "version": 2
   },
   "file_extension": ".py",
   "mimetype": "text/x-python",
   "name": "python",
   "nbconvert_exporter": "python",
   "pygments_lexer": "ipython2",
   "version": "2.7.11"
  }
 },
 "nbformat": 4,
 "nbformat_minor": 1
}
